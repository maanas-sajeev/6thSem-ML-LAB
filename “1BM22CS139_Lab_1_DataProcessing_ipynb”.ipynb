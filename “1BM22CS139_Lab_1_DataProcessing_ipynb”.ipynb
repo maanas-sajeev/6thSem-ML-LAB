{
  "nbformat": 4,
  "nbformat_minor": 0,
  "metadata": {
    "colab": {
      "provenance": []
    },
    "kernelspec": {
      "name": "python3",
      "display_name": "Python 3"
    },
    "language_info": {
      "name": "python"
    }
  },
  "cells": [
    {
      "cell_type": "code",
      "execution_count": 1,
      "metadata": {
        "colab": {
          "base_uri": "https://localhost:8080/"
        },
        "id": "BmJxNDXOLcpD",
        "outputId": "c1429c49-d14c-421a-f650-3bd388fe5e80"
      },
      "outputs": [
        {
          "output_type": "stream",
          "name": "stdout",
          "text": [
            "Diabetes dataset after Min-Max scaling:\n",
            "         ID  No_Pation  Gender       AGE      Urea        Cr     HbA1c  \\\n",
            "0  0.627034   0.000237     0.0  0.508475  0.143617  0.050378  0.264901   \n",
            "1  0.918648   0.000452     0.5  0.101695  0.132979  0.070529  0.264901   \n",
            "2  0.524406   0.000634     0.0  0.508475  0.143617  0.050378  0.264901   \n",
            "3  0.849812   0.001160     0.0  0.508475  0.143617  0.050378  0.264901   \n",
            "4  0.629537   0.000452     0.5  0.220339  0.271277  0.050378  0.264901   \n",
            "\n",
            "       Chol        TG       HDL       LDL      VLDL       BMI  CLASS  \n",
            "0  0.407767  0.044444  0.226804  0.114583  0.011461  0.173913    0.0  \n",
            "1  0.359223  0.081481  0.092784  0.187500  0.014327  0.139130    0.0  \n",
            "2  0.407767  0.044444  0.226804  0.114583  0.011461  0.173913    0.0  \n",
            "3  0.407767  0.044444  0.226804  0.114583  0.011461  0.173913    0.0  \n",
            "4  0.475728  0.051852  0.061856  0.177083  0.008596  0.069565    0.0  \n",
            "Adult Income dataset after Min-Max scaling:\n",
            "        age  workclass    fnlwgt  education  educational-num  marital-status  \\\n",
            "0  0.140351       0.50  0.145129   0.066667         0.400000        0.666667   \n",
            "1  0.368421       0.50  0.052451   0.733333         0.533333        0.333333   \n",
            "2  0.192982       0.25  0.219649   0.466667         0.733333        0.333333   \n",
            "3  0.473684       0.50  0.100153   1.000000         0.600000        0.333333   \n",
            "4  0.017544       0.00  0.061708   1.000000         0.600000        0.666667   \n",
            "\n",
            "   occupation  relationship  race  gender  capital-gain  capital-loss  \\\n",
            "0    0.500000           0.6   0.5     1.0      0.000000           0.0   \n",
            "1    0.357143           0.0   1.0     1.0      0.000000           0.0   \n",
            "2    0.785714           0.0   1.0     1.0      0.000000           0.0   \n",
            "3    0.500000           0.0   0.5     1.0      0.076881           0.0   \n",
            "4    0.000000           0.6   1.0     0.0      0.000000           0.0   \n",
            "\n",
            "   hours-per-week  native-country  income  \n",
            "0        0.397959         0.95122     0.0  \n",
            "1        0.500000         0.95122     0.0  \n",
            "2        0.397959         0.95122     1.0  \n",
            "3        0.397959         0.95122     1.0  \n",
            "4        0.295918         0.95122     0.0  \n"
          ]
        }
      ],
      "source": [
        "import pandas as pd\n",
        "from sklearn.impute import SimpleImputer\n",
        "from sklearn.preprocessing import LabelEncoder\n",
        "import numpy as np\n",
        "\n",
        "# Load datasets\n",
        "diabetes_data = pd.read_csv('/content/Dataset of Diabetes .csv')\n",
        "adult_income_data = pd.read_csv('/content/adult.csv')\n",
        "\n",
        "# Diabetes Data Preprocessing\n",
        "\n",
        "#Handle missing values for numeric columns: Use median for numerical columns\n",
        "numeric_cols = diabetes_data.select_dtypes(include=['float64', 'int64']).columns\n",
        "imputer_numeric = SimpleImputer(strategy='median')\n",
        "diabetes_data[numeric_cols] = imputer_numeric.fit_transform(diabetes_data[numeric_cols])\n",
        "\n",
        "#Handle missing values for categorical columns: Use most frequent value for categorical columns\n",
        "categorical_cols = diabetes_data.select_dtypes(include=['object']).columns\n",
        "imputer_categorical = SimpleImputer(strategy='most_frequent')\n",
        "diabetes_data[categorical_cols] = imputer_categorical.fit_transform(diabetes_data[categorical_cols])\n",
        "\n",
        "# Handle categorical data: Encode 'Gender' and 'CLASS' columns\n",
        "label_encoder = LabelEncoder()\n",
        "diabetes_data['Gender'] = label_encoder.fit_transform(diabetes_data['Gender'])\n",
        "diabetes_data['CLASS'] = label_encoder.fit_transform(diabetes_data['CLASS'])\n",
        "\n",
        "# Handle outliers: Cap values for 'Urea' column\n",
        "lower, upper = diabetes_data['Urea'].quantile([0.01, 0.99])\n",
        "diabetes_data['Urea'] = np.clip(diabetes_data['Urea'], lower, upper)\n",
        "\n",
        "# Apply Min-Max scaling\n",
        "from sklearn.preprocessing import MinMaxScaler\n",
        "scaler = MinMaxScaler()\n",
        "diabetes_scaled_minmax = pd.DataFrame(scaler.fit_transform(diabetes_data), columns=diabetes_data.columns)\n",
        "\n",
        "\n",
        "# Adult Income Data Preprocessing\n",
        "\n",
        "# Handle missing values for numeric columns: Use median for numerical columns\n",
        "numeric_cols_adult = adult_income_data.select_dtypes(include=['float64', 'int64']).columns\n",
        "imputer_numeric_adult = SimpleImputer(strategy='median')\n",
        "adult_income_data[numeric_cols_adult] = imputer_numeric_adult.fit_transform(adult_income_data[numeric_cols_adult])\n",
        "\n",
        "# Handle missing values for categorical columns: Use most frequent value for categorical columns\n",
        "categorical_cols_adult = adult_income_data.select_dtypes(include=['object']).columns\n",
        "imputer_categorical_adult = SimpleImputer(strategy='most_frequent')\n",
        "adult_income_data[categorical_cols_adult] = imputer_categorical_adult.fit_transform(adult_income_data[categorical_cols_adult])\n",
        "\n",
        "# Handle categorical data: Encode categorical columns\n",
        "for col in categorical_cols_adult:\n",
        "    adult_income_data[col] = label_encoder.fit_transform(adult_income_data[col])\n",
        "\n",
        "# Handle outliers: Cap values for 'age' column\n",
        "lower, upper = adult_income_data['age'].quantile([0.01, 0.99])\n",
        "adult_income_data['age'] = np.clip(adult_income_data['age'], lower, upper)\n",
        "\n",
        "# Apply Min-Max scaling\n",
        "adult_income_scaled_minmax = pd.DataFrame(scaler.fit_transform(adult_income_data), columns=adult_income_data.columns)\n",
        "\n",
        "# Display the first few rows of the scaled data\n",
        "print(\"Diabetes dataset after Min-Max scaling:\")\n",
        "print(diabetes_scaled_minmax.head())\n",
        "\n",
        "print(\"Adult Income dataset after Min-Max scaling:\")\n",
        "print(adult_income_scaled_minmax.head())"
      ]
    },
    {
      "cell_type": "code",
      "source": [],
      "metadata": {
        "id": "c3qy9xvIXSAW"
      },
      "execution_count": null,
      "outputs": []
    }
  ]
}